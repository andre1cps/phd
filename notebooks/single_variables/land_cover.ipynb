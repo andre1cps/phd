{
 "cells": [
  {
   "cell_type": "markdown",
   "metadata": {},
   "source": [
    "# Land cover data\n",
    "\n",
    "- Websites: [ESA-CCI-landcover](https://www.esa-landcover-cci.org/), [Viewer](https://maps.elie.ucl.ac.be/CCI/viewer/), [Publications](https://www.esa-landcover-cci.org/?q=node/184), [Maps legend](https://maps.elie.ucl.ac.be/CCI/viewer/download/CCI-LC_Maps_Legend.pdf), and [Quick user guide](https://maps.elie.ucl.ac.be/CCI/viewer/download/CCI-LC_Maps_Legend.pdf).\n",
    "- This is a heavy data set. Just export preprocessed data and try to plot it later in the server!"
   ]
  },
  {
   "cell_type": "markdown",
   "metadata": {},
   "source": [
    "## Initial setup"
   ]
  },
  {
   "cell_type": "code",
   "execution_count": 1,
   "metadata": {},
   "outputs": [],
   "source": [
    "%load_ext autoreload\n",
    "%autoreload 2"
   ]
  },
  {
   "cell_type": "code",
   "execution_count": 2,
   "metadata": {},
   "outputs": [],
   "source": [
    "import warnings\n",
    "warnings.filterwarnings(\"ignore\")"
   ]
  },
  {
   "cell_type": "code",
   "execution_count": 3,
   "metadata": {},
   "outputs": [],
   "source": [
    "# Load packages.\n",
    "import sys\n",
    "import glob\n",
    "\n",
    "import xarray as xr\n",
    "import numpy as np\n",
    "\n",
    "from dask.diagnostics import ProgressBar"
   ]
  },
  {
   "cell_type": "code",
   "execution_count": 4,
   "metadata": {},
   "outputs": [
    {
     "name": "stdout",
     "output_type": "stream",
     "text": [
      ">>> Version of xarray: 0.14.0\n"
     ]
    }
   ],
   "source": [
    "print(\">>> Version of xarray:\", xr.__version__)"
   ]
  },
  {
   "cell_type": "code",
   "execution_count": 5,
   "metadata": {},
   "outputs": [],
   "source": [
    "# Map borders.\n",
    "loni, lonf, lati, latf = -90, -30, 20, -60"
   ]
  },
  {
   "cell_type": "code",
   "execution_count": 6,
   "metadata": {},
   "outputs": [],
   "source": [
    "# Folder with data.\n",
    "DATA_FOLDER = \"/media/alex/ALEXDATA/data_sets/ESA_CCI/LC/\""
   ]
  },
  {
   "cell_type": "markdown",
   "metadata": {},
   "source": [
    "## Load data"
   ]
  },
  {
   "cell_type": "code",
   "execution_count": 7,
   "metadata": {},
   "outputs": [],
   "source": [
    "# List files (just one).\n",
    "FILE = \"ESACCI-LC-L4-LCCS-Map-300m-P1Y-2015-v2.0.7b.nc\"\n",
    "\n",
    "# DataSet object.\n",
    "DS = xr.open_dataset(\n",
    "    DATA_FOLDER + FILE, \n",
    "    drop_variables=[\"processed_flag\", \n",
    "                    \"current_pixel_state\",\n",
    "                    \"observation_count\",\n",
    "                    \"change_count\",\n",
    "                    \"crs\"]\n",
    ")\n",
    "\n",
    "# South America.\n",
    "DS = DS.sel(lon=slice(loni, lonf), lat=slice(lati, latf))\n",
    "DA = DS.lccs_class"
   ]
  },
  {
   "cell_type": "code",
   "execution_count": 8,
   "metadata": {},
   "outputs": [
    {
     "data": {
      "text/plain": [
       "<xarray.Dataset>\n",
       "Dimensions:     (lat: 28800, lon: 21600)\n",
       "Coordinates:\n",
       "  * lat         (lat) float32 19.998611 19.995832 ... -59.995834 -59.99861\n",
       "  * lon         (lon) float32 -89.99861 -89.995834 ... -30.004168 -30.001389\n",
       "Data variables:\n",
       "    lccs_class  (lat, lon) float32 ...\n",
       "Attributes:\n",
       "    title:                      ESA CCI Land Cover Map\n",
       "    summary:                    This dataset contains the global ESA CCI land...\n",
       "    type:                       ESACCI-LC-L4-LCCS-Map-300m-P1Y\n",
       "    id:                         ESACCI-LC-L4-LCCS-Map-300m-P1Y-2015-v2.0.7\n",
       "    project:                    Climate Change Initiative - European Space Ag...\n",
       "    references:                 http://www.esa-landcover-cci.org/\n",
       "    institution:                Universite catholique de Louvain\n",
       "    contact:                    landcover-cci@uclouvain.be\n",
       "    comment:                    \n",
       "    Conventions:                CF-1.6\n",
       "    standard_name_vocabulary:   NetCDF Climate and Forecast (CF) Standard Nam...\n",
       "    keywords:                   land cover classification,satellite,observation\n",
       "    keywords_vocabulary:        NASA Global Change Master Directory (GCMD) Sc...\n",
       "    license:                    ESA CCI Data Policy: free and open access\n",
       "    naming_authority:           org.esa-cci\n",
       "    cdm_data_type:              grid\n",
       "    TileSize:                   2048:2048\n",
       "    tracking_id:                12590bad-9014-4a91-9048-d06b67965490\n",
       "    product_version:            2.0.7\n",
       "    date_created:               20170615T163947Z\n",
       "    creator_name:               University catholique de Louvain\n",
       "    creator_url:                http://www.uclouvain.be/\n",
       "    creator_email:              landcover-cci@uclouvain.be\n",
       "    source:                     MERIS FR L1B version 5.05, MERIS RR L1B versi...\n",
       "    history:                    amorgos-4,0, lc-sdr-1.0, lc-sr-1.0, lc-classi...\n",
       "    time_coverage_start:        20150101\n",
       "    time_coverage_end:          20151231\n",
       "    time_coverage_duration:     P1Y\n",
       "    time_coverage_resolution:   P1Y\n",
       "    geospatial_lat_min:         -90.0\n",
       "    geospatial_lat_max:         90.0\n",
       "    geospatial_lon_min:         -180.0\n",
       "    geospatial_lon_max:         180.0\n",
       "    spatial_resolution:         300m\n",
       "    geospatial_lat_units:       degrees_north\n",
       "    geospatial_lat_resolution:  0.002778\n",
       "    geospatial_lon_units:       degrees_east\n",
       "    geospatial_lon_resolution:  0.002778"
      ]
     },
     "execution_count": 8,
     "metadata": {},
     "output_type": "execute_result"
    }
   ],
   "source": [
    "DS"
   ]
  },
  {
   "cell_type": "code",
   "execution_count": 9,
   "metadata": {},
   "outputs": [
    {
     "data": {
      "text/plain": [
       "<xarray.DataArray 'lccs_class' (lat: 28800, lon: 21600)>\n",
       "[622080000 values with dtype=float32]\n",
       "Coordinates:\n",
       "  * lat      (lat) float32 19.998611 19.995832 ... -59.995834 -59.99861\n",
       "  * lon      (lon) float32 -89.99861 -89.995834 ... -30.004168 -30.001389\n",
       "Attributes:\n",
       "    long_name:            Land cover class defined in LCCS\n",
       "    standard_name:        land_cover_lccs\n",
       "    flag_values:          [   0   10   11   12   20   30   40   50   60   61 ...\n",
       "    flag_meanings:        no_data cropland_rainfed cropland_rainfed_herbaceou...\n",
       "    valid_min:            1\n",
       "    valid_max:            220\n",
       "    ancillary_variables:  processed_flag current_pixel_state observation_coun..."
      ]
     },
     "execution_count": 9,
     "metadata": {},
     "output_type": "execute_result"
    }
   ],
   "source": [
    "# Copy of attributes of this DataArray object.\n",
    "DAattrs = DA.attrs\n",
    "DA"
   ]
  },
  {
   "cell_type": "code",
   "execution_count": 10,
   "metadata": {},
   "outputs": [],
   "source": [
    "# Load data into memory. Less space into memory because of int type ;)\n",
    "DA = DA.astype(np.int16)\n",
    "\n",
    "# Maintain original attributes.\n",
    "DA = DA.assign_attrs(DAattrs)"
   ]
  },
  {
   "cell_type": "code",
   "execution_count": 11,
   "metadata": {},
   "outputs": [
    {
     "name": "stdout",
     "output_type": "stream",
     "text": [
      ">>> DataArray size in GB: 1.24416\n",
      ">>> DataSet size in GB: 2.4885216\n"
     ]
    }
   ],
   "source": [
    "print(\">>> DataArray size in GB:\", DA.nbytes / 1e9)\n",
    "print(\">>> DataSet size in GB:\", DS.nbytes / 1e9)"
   ]
  },
  {
   "cell_type": "markdown",
   "metadata": {},
   "source": [
    "## Flags"
   ]
  },
  {
   "cell_type": "code",
   "execution_count": 12,
   "metadata": {},
   "outputs": [
    {
     "data": {
      "text/plain": [
       "{'no_data': 0,\n",
       " 'cropland_rainfed': 10,\n",
       " 'cropland_rainfed_herbaceous_cover': 11,\n",
       " 'cropland_rainfed_tree_or_shrub_cover': 12,\n",
       " 'cropland_irrigated': 20,\n",
       " 'mosaic_cropland': 30,\n",
       " 'mosaic_natural_vegetation': 40,\n",
       " 'tree_broadleaved_evergreen_closed_to_open': 50,\n",
       " 'tree_broadleaved_deciduous_closed_to_open': 60,\n",
       " 'tree_broadleaved_deciduous_closed': 61,\n",
       " 'tree_broadleaved_deciduous_open': 62,\n",
       " 'tree_needleleaved_evergreen_closed_to_open': 70,\n",
       " 'tree_needleleaved_evergreen_closed': 71,\n",
       " 'tree_needleleaved_evergreen_open': 72,\n",
       " 'tree_needleleaved_deciduous_closed_to_open': 80,\n",
       " 'tree_needleleaved_deciduous_closed': 81,\n",
       " 'tree_needleleaved_deciduous_open': 82,\n",
       " 'tree_mixed': 90,\n",
       " 'mosaic_tree_and_shrub': 100,\n",
       " 'mosaic_herbaceous': 110,\n",
       " 'shrubland': 120,\n",
       " 'shrubland_evergreen': 121,\n",
       " 'shrubland_deciduous': 122,\n",
       " 'grassland': -126,\n",
       " 'lichens_and_mosses': -116,\n",
       " 'sparse_vegetation': -106,\n",
       " 'sparse_tree': -105,\n",
       " 'sparse_shrub': -104,\n",
       " 'sparse_herbaceous': -103,\n",
       " 'tree_cover_flooded_fresh_or_brakish_water': -96,\n",
       " 'tree_cover_flooded_saline_water': -86,\n",
       " 'shrub_or_herbaceous_cover_flooded': -76,\n",
       " 'urban': -66,\n",
       " 'bare_areas': -56,\n",
       " 'bare_areas_consolidated': -55,\n",
       " 'bare_areas_unconsolidated': -54,\n",
       " 'water': -46,\n",
       " 'snow_and_ice': -36}"
      ]
     },
     "execution_count": 12,
     "metadata": {},
     "output_type": "execute_result"
    }
   ],
   "source": [
    "# Make a dictionary with flag values / means.\n",
    "flags_dict = {}\n",
    "k = DA.flag_meanings.split(sep=\" \")\n",
    "v = DA.flag_values\n",
    "for i in range(len(k)):\n",
    "    flags_dict[k[i]] = v[i]\n",
    "    \n",
    "flags_dict    "
   ]
  },
  {
   "cell_type": "markdown",
   "metadata": {},
   "source": [
    "**Manual correction for flags dict!** I am not `completely` sure about this! "
   ]
  },
  {
   "cell_type": "code",
   "execution_count": 13,
   "metadata": {},
   "outputs": [
    {
     "data": {
      "text/plain": [
       "{'no_data': 0,\n",
       " 'cropland_rainfed': 10,\n",
       " 'cropland_rainfed_herbaceous_cover': 11,\n",
       " 'cropland_rainfed_tree_or_shrub_cover': 12,\n",
       " 'cropland_irrigated': 20,\n",
       " 'mosaic_cropland': 30,\n",
       " 'mosaic_natural_vegetation': 40,\n",
       " 'tree_broadleaved_evergreen_closed_to_open': 50,\n",
       " 'tree_broadleaved_deciduous_closed_to_open': 60,\n",
       " 'tree_broadleaved_deciduous_closed': 61,\n",
       " 'tree_broadleaved_deciduous_open': 62,\n",
       " 'tree_needleleaved_evergreen_closed_to_open': 70,\n",
       " 'tree_needleleaved_evergreen_closed': 71,\n",
       " 'tree_needleleaved_evergreen_open': 72,\n",
       " 'tree_needleleaved_deciduous_closed_to_open': 80,\n",
       " 'tree_needleleaved_deciduous_closed': 81,\n",
       " 'tree_needleleaved_deciduous_open': 82,\n",
       " 'tree_mixed': 90,\n",
       " 'mosaic_tree_and_shrub': 100,\n",
       " 'mosaic_herbaceous': 110,\n",
       " 'shrubland': 120,\n",
       " 'shrubland_evergreen': 121,\n",
       " 'shrubland_deciduous': 122,\n",
       " 'grassland': 130,\n",
       " 'lichens_and_mosses': 140,\n",
       " 'sparse_vegetation': 150,\n",
       " 'sparse_tree': 151,\n",
       " 'sparse_shrub': 152,\n",
       " 'sparse_herbaceous': 153,\n",
       " 'tree_cover_flooded_fresh_or_brakish_water': 160,\n",
       " 'tree_cover_flooded_saline_water': 170,\n",
       " 'shrub_or_herbaceous_cover_flooded': 180,\n",
       " 'urban': 190,\n",
       " 'bare_areas': 200,\n",
       " 'bare_areas_consolidated': 201,\n",
       " 'bare_areas_unconsolidated': 202,\n",
       " 'water': 210,\n",
       " 'snow_and_ice': 220}"
      ]
     },
     "execution_count": 13,
     "metadata": {},
     "output_type": "execute_result"
    }
   ],
   "source": [
    "keys = [\n",
    "    \"grassland\", \"lichens_and_mosses\", \n",
    "    \"sparse_vegetation\", \"sparse_tree\", \n",
    "    \"sparse_shrub\", \"sparse_herbaceous\", \n",
    "    \"tree_cover_flooded_fresh_or_brakish_water\", \"tree_cover_flooded_saline_water\", \n",
    "    \"shrub_or_herbaceous_cover_flooded\", \"urban\", \n",
    "    \"bare_areas\", \"bare_areas_consolidated\", \n",
    "    \"bare_areas_unconsolidated\", \"water\", \n",
    "    \"snow_and_ice\"\n",
    "]\n",
    "\n",
    "values = [\n",
    "    130, 140,\n",
    "    150, 151,\n",
    "    152, 153,\n",
    "    160, 170, \n",
    "    180, 190,\n",
    "    200, 201,\n",
    "    202, 210, \n",
    "    220\n",
    "]\n",
    "\n",
    "for key, value in zip(keys, values):\n",
    "    flags_dict[key] = value\n",
    "\n",
    "# Corrected dictionary.\n",
    "flags_dict"
   ]
  },
  {
   "cell_type": "code",
   "execution_count": 14,
   "metadata": {},
   "outputs": [],
   "source": [
    "# Correction of attributes.\n",
    "DA.attrs[\"flag_values\"] = np.array([])\n",
    "DA.attrs[\"flag_meanings\"] = np.array([])\n",
    "\n",
    "for k, v in flags_dict.items():\n",
    "    DA.attrs[\"flag_values\"] = np.append(DA.attrs[\"flag_values\"], v)\n",
    "    DA.attrs[\"flag_meanings\"] = np.append(DA.attrs[\"flag_meanings\"], k)\n",
    "    \n",
    "# As int.    \n",
    "DA.attrs[\"flag_values\"] = DA.flag_values.astype(int)    "
   ]
  },
  {
   "cell_type": "code",
   "execution_count": 15,
   "metadata": {},
   "outputs": [
    {
     "data": {
      "text/plain": [
       "{'long_name': 'Land cover class defined in LCCS',\n",
       " 'standard_name': 'land_cover_lccs',\n",
       " 'flag_values': array([  0,  10,  11,  12,  20,  30,  40,  50,  60,  61,  62,  70,  71,\n",
       "         72,  80,  81,  82,  90, 100, 110, 120, 121, 122, 130, 140, 150,\n",
       "        151, 152, 153, 160, 170, 180, 190, 200, 201, 202, 210, 220]),\n",
       " 'flag_meanings': array(['no_data', 'cropland_rainfed', 'cropland_rainfed_herbaceous_cover',\n",
       "        'cropland_rainfed_tree_or_shrub_cover', 'cropland_irrigated',\n",
       "        'mosaic_cropland', 'mosaic_natural_vegetation',\n",
       "        'tree_broadleaved_evergreen_closed_to_open',\n",
       "        'tree_broadleaved_deciduous_closed_to_open',\n",
       "        'tree_broadleaved_deciduous_closed',\n",
       "        'tree_broadleaved_deciduous_open',\n",
       "        'tree_needleleaved_evergreen_closed_to_open',\n",
       "        'tree_needleleaved_evergreen_closed',\n",
       "        'tree_needleleaved_evergreen_open',\n",
       "        'tree_needleleaved_deciduous_closed_to_open',\n",
       "        'tree_needleleaved_deciduous_closed',\n",
       "        'tree_needleleaved_deciduous_open', 'tree_mixed',\n",
       "        'mosaic_tree_and_shrub', 'mosaic_herbaceous', 'shrubland',\n",
       "        'shrubland_evergreen', 'shrubland_deciduous', 'grassland',\n",
       "        'lichens_and_mosses', 'sparse_vegetation', 'sparse_tree',\n",
       "        'sparse_shrub', 'sparse_herbaceous',\n",
       "        'tree_cover_flooded_fresh_or_brakish_water',\n",
       "        'tree_cover_flooded_saline_water',\n",
       "        'shrub_or_herbaceous_cover_flooded', 'urban', 'bare_areas',\n",
       "        'bare_areas_consolidated', 'bare_areas_unconsolidated', 'water',\n",
       "        'snow_and_ice'], dtype='<U42'),\n",
       " 'valid_min': 1,\n",
       " 'valid_max': 220,\n",
       " 'ancillary_variables': 'processed_flag current_pixel_state observation_count change_count'}"
      ]
     },
     "execution_count": 15,
     "metadata": {},
     "output_type": "execute_result"
    }
   ],
   "source": [
    "DA.attrs"
   ]
  },
  {
   "cell_type": "code",
   "execution_count": 16,
   "metadata": {},
   "outputs": [],
   "source": [
    "# Export data as a netcdf file.\n",
    "DA.to_netcdf(DATA_FOLDER + \"ppdata_2015_south_america.nc\")"
   ]
  }
 ],
 "metadata": {
  "kernelspec": {
   "display_name": "Python 3",
   "language": "python",
   "name": "python3"
  },
  "language_info": {
   "codemirror_mode": {
    "name": "ipython",
    "version": 3
   },
   "file_extension": ".py",
   "mimetype": "text/x-python",
   "name": "python",
   "nbconvert_exporter": "python",
   "pygments_lexer": "ipython3",
   "version": "3.7.6"
  }
 },
 "nbformat": 4,
 "nbformat_minor": 4
}
