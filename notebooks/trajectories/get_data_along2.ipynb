{
 "cells": [
  {
   "cell_type": "markdown",
   "metadata": {},
   "source": [
    "# Observed data along trajectories \n",
    "\n",
    "- Data from ERA-INTERIM and from GIMMS.\n",
    "- Specific humidity and moisture flux.\n",
    "- Multiple trajectories using `cdlearn.trajectories.StaticTrajectory` class. All of them begin at the same initial position.\n",
    "- Get observed data of water vapour content, NDVI, total precipitation, evaporation along all trajectories.\n",
    "- Save these trajectories inside individual `.csv` files (**time consuming operation**)."
   ]
  },
  {
   "cell_type": "markdown",
   "metadata": {},
   "source": [
    "## 1 Initial setup"
   ]
  },
  {
   "cell_type": "code",
   "execution_count": 1,
   "metadata": {},
   "outputs": [],
   "source": [
    "%load_ext autoreload\n",
    "%autoreload 2  "
   ]
  },
  {
   "cell_type": "code",
   "execution_count": 2,
   "metadata": {},
   "outputs": [],
   "source": [
    "import warnings\n",
    "warnings.filterwarnings(\"ignore\")"
   ]
  },
  {
   "cell_type": "code",
   "execution_count": 3,
   "metadata": {},
   "outputs": [],
   "source": [
    "# Load packages.\n",
    "import os\n",
    "import sys\n",
    "import glob\n",
    "import calendar\n",
    "\n",
    "import xarray as xr\n",
    "import pandas as pd\n",
    "import numpy as np\n",
    "import matplotlib.pyplot as plt\n",
    "\n",
    "from dask.diagnostics import ProgressBar\n",
    "\n",
    "%matplotlib inline"
   ]
  },
  {
   "cell_type": "code",
   "execution_count": 4,
   "metadata": {},
   "outputs": [
    {
     "name": "stdout",
     "output_type": "stream",
     "text": [
      ">>> Version of xarray: 0.14.0\n",
      ">>> Version of pandas: 0.24.2\n"
     ]
    }
   ],
   "source": [
    "print(\">>> Version of xarray:\", xr.__version__)\n",
    "print(\">>> Version of pandas:\", pd.__version__)"
   ]
  },
  {
   "cell_type": "code",
   "execution_count": 5,
   "metadata": {},
   "outputs": [],
   "source": [
    "# My repository.\n",
    "repository = \"/home/alex/Dropbox/repositories/\"\n",
    "\n",
    "# Include once my repository in the path for searching libraries.\n",
    "if repository not in sys.path:\n",
    "    sys.path.append(repository)\n",
    "    \n",
    "# Import my package.\n",
    "import cdlearn\n",
    "\n",
    "# Map borders.\n",
    "loni, lonf, lati, latf = -90, -30, -60, 20 # Latitude in ascending order.\n",
    "\n",
    "# Time range. \n",
    "ti, tf = \"1981-07\", \"2012-09\"\n",
    "\n",
    "# Where figures will be put.\n",
    "fig_path = \"/home/alex/Dropbox/repositories/phd/images/\""
   ]
  },
  {
   "cell_type": "code",
   "execution_count": 6,
   "metadata": {},
   "outputs": [],
   "source": [
    "# Main folder with data.\n",
    "DATA_FOLDER = \"/media/alex/ALEXDATA/data_sets/\"\n",
    "\n",
    "# Moisture transport data folder.\n",
    "MOISTURE_FOLDER = DATA_FOLDER + \"ERA_INTERIM/moisture_transport_mmeans/\"\n",
    "\n",
    "# NDVI data folder.\n",
    "VEGETATION_FOLDER = DATA_FOLDER + \"GIMMS/NDVI_mmeans/\"\n",
    "\n",
    "# Total precipitation data folder.\n",
    "PRECIPITATION_FOLDER = DATA_FOLDER + \"ERA_INTERIM/total_precipitation_mmeans/\"\n",
    "\n",
    "# Evaporation data folder.\n",
    "EVAPORATION_FOLDER = DATA_FOLDER + \"ERA_INTERIM/evaporation_mmeans/\"\n",
    "\n",
    "# Where put results for trajectories.\n",
    "TRAJECTORIES_FOLDER = DATA_FOLDER + \"TRAJECTORIES/ensemble1/\""
   ]
  },
  {
   "cell_type": "markdown",
   "metadata": {},
   "source": [
    "## 2 Load and preprocess data"
   ]
  },
  {
   "cell_type": "markdown",
   "metadata": {},
   "source": [
    "### 2.1 Moisture transport"
   ]
  },
  {
   "cell_type": "code",
   "execution_count": 7,
   "metadata": {},
   "outputs": [],
   "source": [
    "# List files.\n",
    "MOISTURE_FILES = sorted(glob.glob(MOISTURE_FOLDER + \"*.grb\"))"
   ]
  },
  {
   "cell_type": "code",
   "execution_count": 8,
   "metadata": {},
   "outputs": [
    {
     "name": "stdout",
     "output_type": "stream",
     "text": [
      "CPU times: user 1min 9s, sys: 603 ms, total: 1min 9s\n",
      "Wall time: 1min 10s\n"
     ]
    }
   ],
   "source": [
    "%%time\n",
    "\n",
    "# DataSets objects.\n",
    "DS_mt = xr.open_mfdataset(MOISTURE_FILES, engine=\"cfgrib\", concat_dim=\"time\")"
   ]
  },
  {
   "cell_type": "code",
   "execution_count": 9,
   "metadata": {},
   "outputs": [
    {
     "name": "stdout",
     "output_type": "stream",
     "text": [
      "CPU times: user 158 ms, sys: 4 ms, total: 162 ms\n",
      "Wall time: 158 ms\n"
     ]
    }
   ],
   "source": [
    "%%time\n",
    "\n",
    "# Shift longitudes and guarantee time ordering. \n",
    "# Latitude is also put in ascending order.\n",
    "DS_mt = DS_mt.assign_coords(longitude=(DS_mt.longitude + 180) % 360 - 180)\n",
    "DS_mt = DS_mt.sortby(DS_mt.latitude)\n",
    "DS_mt = DS_mt.sortby(DS_mt.longitude)\n",
    "DS_mt = DS_mt.sortby(DS_mt.time)"
   ]
  },
  {
   "cell_type": "code",
   "execution_count": 10,
   "metadata": {},
   "outputs": [],
   "source": [
    "# South America at commom time range.\n",
    "DS_mt = DS_mt.sel(\n",
    "    longitude=slice(loni, lonf), latitude=slice(lati, latf), time=slice(ti, tf)\n",
    ")"
   ]
  },
  {
   "cell_type": "code",
   "execution_count": 11,
   "metadata": {},
   "outputs": [
    {
     "name": "stdout",
     "output_type": "stream",
     "text": [
      "CPU times: user 1.27 ms, sys: 14 µs, total: 1.28 ms\n",
      "Wall time: 1.28 ms\n"
     ]
    }
   ],
   "source": [
    "%%time\n",
    "\n",
    "# Let's rename some variables.\n",
    "DS_mt = DS_mt.rename(\n",
    "    name_dict={\"v\": \"w\", \n",
    "               \"q\": \"Uwind\",     \n",
    "               \"sp\": \"Vwind\", \n",
    "               \"stl1\": \"Fx\", \n",
    "               \"swl1\": \"Fy\"}\n",
    ")\n",
    "\n",
    "# Names and units for variables.\n",
    "long_names = [\n",
    "    \"specific humidity [kg/m2]\", \n",
    "    \"zonal wind [kg/m/s]\",\n",
    "    \"meridional wind [kg/m/s]\",\n",
    "    \"zonal moisture flux [kg/m/s]\",\n",
    "    \"meridional moisture flux [kg/m/s]\"\n",
    "]\n",
    "\n",
    "# Put them as attributes.\n",
    "for var_name, long_name in zip(DS_mt.data_vars.keys(), long_names):\n",
    "    DS_mt[var_name].attrs = {}\n",
    "    DS_mt[var_name].attrs[\"long_name\"] = long_name"
   ]
  },
  {
   "cell_type": "markdown",
   "metadata": {},
   "source": [
    "**I have some doubts about units.**"
   ]
  },
  {
   "cell_type": "code",
   "execution_count": 12,
   "metadata": {},
   "outputs": [],
   "source": [
    "# Calculate velocities of air masses.\n",
    "DS_mt = DS_mt.assign(u = DS_mt.Fx / DS_mt.w, v = DS_mt.Fy / DS_mt.w)"
   ]
  },
  {
   "cell_type": "code",
   "execution_count": 13,
   "metadata": {},
   "outputs": [
    {
     "name": "stdout",
     "output_type": "stream",
     "text": [
      "[########################################] | 100% Completed | 29.5s\n"
     ]
    }
   ],
   "source": [
    "# Load into memory.\n",
    "with ProgressBar():\n",
    "    DS_mt = DS_mt.compute()"
   ]
  },
  {
   "cell_type": "code",
   "execution_count": 14,
   "metadata": {},
   "outputs": [],
   "source": [
    "# Put land-sea mask.\n",
    "DS_mt = cdlearn.pixels.EraInterimGrid.add_land_mask(DS_mt)"
   ]
  },
  {
   "cell_type": "markdown",
   "metadata": {},
   "source": [
    "### 2.2 NDVI"
   ]
  },
  {
   "cell_type": "code",
   "execution_count": 19,
   "metadata": {},
   "outputs": [],
   "source": [
    "# List files.\n",
    "VEGETATION_FILES = sorted(glob.glob(VEGETATION_FOLDER + \"*.nc4\"))"
   ]
  },
  {
   "cell_type": "code",
   "execution_count": 20,
   "metadata": {},
   "outputs": [
    {
     "name": "stdout",
     "output_type": "stream",
     "text": [
      "CPU times: user 452 ms, sys: 32.2 ms, total: 484 ms\n",
      "Wall time: 511 ms\n"
     ]
    }
   ],
   "source": [
    "%%time\n",
    "\n",
    "# Lazy read of global data sets.\n",
    "DS_ndvi = xr.open_mfdataset(VEGETATION_FILES, concat_dim=\"time\")\n",
    "\n",
    "# Latitude in ascending order.\n",
    "DS_ndvi = DS_ndvi.sortby(DS_ndvi.latitude)"
   ]
  },
  {
   "cell_type": "code",
   "execution_count": 21,
   "metadata": {},
   "outputs": [],
   "source": [
    "# South America at commom time range.\n",
    "DS_ndvi = DS_ndvi.sel(\n",
    "    longitude=slice(loni, lonf), latitude=slice(lati, latf), time=slice(ti, tf)\n",
    ")"
   ]
  },
  {
   "cell_type": "code",
   "execution_count": 22,
   "metadata": {},
   "outputs": [
    {
     "name": "stdout",
     "output_type": "stream",
     "text": [
      "[########################################] | 100% Completed |  0.7s\n"
     ]
    }
   ],
   "source": [
    "# Load into memory.\n",
    "with ProgressBar():\n",
    "    DS_ndvi = DS_ndvi.compute()"
   ]
  },
  {
   "cell_type": "code",
   "execution_count": 23,
   "metadata": {},
   "outputs": [],
   "source": [
    "# Put mask.\n",
    "DS_ndvi = cdlearn.pixels.EraInterimGrid.add_land_mask(DS_ndvi)"
   ]
  },
  {
   "cell_type": "markdown",
   "metadata": {},
   "source": [
    "### 2.3 Total precipitation"
   ]
  },
  {
   "cell_type": "code",
   "execution_count": 24,
   "metadata": {},
   "outputs": [],
   "source": [
    "# List files.\n",
    "PRECIPITATION_FILES = sorted(glob.glob(PRECIPITATION_FOLDER + \"*.grb\"))"
   ]
  },
  {
   "cell_type": "code",
   "execution_count": 25,
   "metadata": {},
   "outputs": [
    {
     "name": "stdout",
     "output_type": "stream",
     "text": [
      "CPU times: user 1.84 s, sys: 20.3 ms, total: 1.86 s\n",
      "Wall time: 1.88 s\n"
     ]
    }
   ],
   "source": [
    "%%time\n",
    "\n",
    "# DataSets objects.\n",
    "DS_tp = xr.open_mfdataset(PRECIPITATION_FILES, engine=\"cfgrib\", concat_dim=\"time\")"
   ]
  },
  {
   "cell_type": "code",
   "execution_count": 26,
   "metadata": {},
   "outputs": [
    {
     "name": "stdout",
     "output_type": "stream",
     "text": [
      "CPU times: user 15.2 ms, sys: 0 ns, total: 15.2 ms\n",
      "Wall time: 14.7 ms\n"
     ]
    }
   ],
   "source": [
    "%%time\n",
    "\n",
    "# Shift longitudes and guarantee time ordering.\n",
    "# Latitude is also put in ascending order.\n",
    "DS_tp = DS_tp.assign_coords(longitude=(DS_tp.longitude + 180) % 360 - 180)\n",
    "DS_tp = DS_tp.sortby(DS_tp.latitude)\n",
    "DS_tp = DS_tp.sortby(DS_tp.longitude)\n",
    "DS_tp = DS_tp.sortby(DS_tp.time)"
   ]
  },
  {
   "cell_type": "code",
   "execution_count": 27,
   "metadata": {},
   "outputs": [],
   "source": [
    "# South America at commom time range.\n",
    "DS_tp = DS_tp.sel(\n",
    "    longitude=slice(loni, lonf), latitude=slice(lati, latf), time=slice(ti, tf)\n",
    ")"
   ]
  },
  {
   "cell_type": "code",
   "execution_count": 28,
   "metadata": {},
   "outputs": [
    {
     "name": "stdout",
     "output_type": "stream",
     "text": [
      "[########################################] | 100% Completed |  4.5s\n"
     ]
    }
   ],
   "source": [
    "# Load into memory.\n",
    "with ProgressBar():\n",
    "    DS_tp = DS_tp.compute()"
   ]
  },
  {
   "cell_type": "code",
   "execution_count": 29,
   "metadata": {},
   "outputs": [],
   "source": [
    "# Put land-sea mask.\n",
    "DS_tp = cdlearn.pixels.EraInterimGrid.add_land_mask(DS_tp)"
   ]
  },
  {
   "cell_type": "markdown",
   "metadata": {},
   "source": [
    "### 2.4 Evaporation"
   ]
  },
  {
   "cell_type": "code",
   "execution_count": 30,
   "metadata": {},
   "outputs": [],
   "source": [
    "# List files.\n",
    "EVAPORATION_FILES = sorted(glob.glob(EVAPORATION_FOLDER + \"*.grb\"))"
   ]
  },
  {
   "cell_type": "code",
   "execution_count": 31,
   "metadata": {},
   "outputs": [
    {
     "name": "stdout",
     "output_type": "stream",
     "text": [
      "CPU times: user 1.64 s, sys: 20 ms, total: 1.66 s\n",
      "Wall time: 1.68 s\n"
     ]
    }
   ],
   "source": [
    "%%time\n",
    "\n",
    "# DataSets object.\n",
    "DS_e = xr.open_mfdataset(EVAPORATION_FILES, engine=\"cfgrib\", concat_dim=\"time\")"
   ]
  },
  {
   "cell_type": "code",
   "execution_count": 32,
   "metadata": {},
   "outputs": [
    {
     "name": "stdout",
     "output_type": "stream",
     "text": [
      "CPU times: user 17.9 ms, sys: 0 ns, total: 17.9 ms\n",
      "Wall time: 20.7 ms\n"
     ]
    }
   ],
   "source": [
    "%%time\n",
    "\n",
    "# Shift longitudes and guarantee time ordering.\n",
    "# Latitude is also put in ascending order.\n",
    "DS_e = DS_e.assign_coords(longitude=(DS_e.longitude + 180) % 360 - 180)\n",
    "DS_e = DS_e.sortby(DS_e.latitude)\n",
    "DS_e = DS_e.sortby(DS_e.longitude)\n",
    "DS_e = DS_e.sortby(DS_e.time)"
   ]
  },
  {
   "cell_type": "code",
   "execution_count": 33,
   "metadata": {},
   "outputs": [],
   "source": [
    "# South America at commom time range.\n",
    "DS_e = DS_e.sel(\n",
    "    longitude=slice(loni, lonf), latitude=slice(lati, latf), time=slice(ti, tf)\n",
    ")"
   ]
  },
  {
   "cell_type": "code",
   "execution_count": 34,
   "metadata": {},
   "outputs": [
    {
     "name": "stdout",
     "output_type": "stream",
     "text": [
      "[########################################] | 100% Completed |  6.3s\n"
     ]
    }
   ],
   "source": [
    "# Load into memory.\n",
    "with ProgressBar():\n",
    "    DS_e = DS_e.compute()"
   ]
  },
  {
   "cell_type": "code",
   "execution_count": 35,
   "metadata": {},
   "outputs": [],
   "source": [
    "# Put land-sea mask.\n",
    "DS_e = cdlearn.pixels.EraInterimGrid.add_land_mask(DS_e)"
   ]
  },
  {
   "cell_type": "markdown",
   "metadata": {},
   "source": [
    "## 3 Data distributions"
   ]
  },
  {
   "cell_type": "code",
   "execution_count": 36,
   "metadata": {},
   "outputs": [
    {
     "data": {
      "image/png": "[encoded data removed]",
      "text/plain": [
       "<Figure size 432x288 with 1 Axes>"
      ]
     },
     "metadata": {
      "needs_background": "light"
     },
     "output_type": "display_data"
    }
   ],
   "source": [
    "# Histogram for NDVI.\n",
    "plt.hist(DS_ndvi.ndvi.values.flatten(), bins=100);\n",
    "plt.xlim((0, 1))\n",
    "plt.ylim((0, 45000))\n",
    "plt.title(\"Histogram for NDVI\", weight=\"bold\")\n",
    "plt.xlabel(\"[0, 1]\")\n",
    "plt.ylabel(\"Counts\");"
   ]
  },
  {
   "cell_type": "code",
   "execution_count": 37,
   "metadata": {},
   "outputs": [
    {
     "data": {
      "image/png": "[encoded data removed]",
      "text/plain": [
       "<Figure size 432x288 with 1 Axes>"
      ]
     },
     "metadata": {
      "needs_background": "light"
     },
     "output_type": "display_data"
    }
   ],
   "source": [
    "# Histogram for total precipitation.\n",
    "plt.hist(1000 * DS_tp.tp.values.flatten(), bins=1000);\n",
    "plt.xlim((0, 21))\n",
    "plt.title(\"Histogram for total precipitation\", weight=\"bold\")\n",
    "plt.xlabel(\"mm\")\n",
    "plt.ylabel(\"Counts\");"
   ]
  },
  {
   "cell_type": "code",
   "execution_count": 38,
   "metadata": {},
   "outputs": [
    {
     "data": {
      "image/png": "[encoded data removed]",
      "text/plain": [
       "<Figure size 432x288 with 1 Axes>"
      ]
     },
     "metadata": {
      "needs_background": "light"
     },
     "output_type": "display_data"
    }
   ],
   "source": [
    "# Histogram for evaporation.\n",
    "plt.hist(-1000 * DS_e.e.values.flatten(), bins=250);\n",
    "plt.xlim((-0.5, 9))\n",
    "plt.title(\"Histogram for evaporation\", weight=\"bold\")\n",
    "plt.xlabel(\"mm\")\n",
    "plt.ylabel(\"Counts\");"
   ]
  },
  {
   "cell_type": "markdown",
   "metadata": {},
   "source": [
    "## 4 Trajectories"
   ]
  },
  {
   "cell_type": "markdown",
   "metadata": {},
   "source": [
    "### 4.1 Generate ensemble of trajectories using `cdlearn.trajectories.StaticTrajectory`.\n",
    "\n",
    "Generate all trajectories and save each one in a `.csv` file."
   ]
  },
  {
   "cell_type": "code",
   "execution_count": 39,
   "metadata": {},
   "outputs": [
    {
     "name": "stdout",
     "output_type": "stream",
     "text": [
      ">>> Processing January ...\n",
      ">>> Processing February ...\n",
      ">>> Processing March ...\n",
      ">>> Processing April ...\n",
      ">>> Processing May ...\n",
      ">>> Processing June ...\n",
      ">>> Processing July ...\n",
      ">>> Processing August ...\n",
      ">>> Processing September ...\n",
      ">>> Processing October ...\n",
      ">>> Processing November ...\n",
      ">>> Processing December ...\n",
      "CPU times: user 56min 56s, sys: 28.3 s, total: 57min 24s\n",
      "Wall time: 58min 52s\n"
     ]
    }
   ],
   "source": [
    "%%time\n",
    "\n",
    "# Initial position.\n",
    "p0 = np.array([0, -35]) # This is very good initial position! Keep it!\n",
    "\n",
    "# Time integration parameters.\n",
    "dt = 2500        # Time step.\n",
    "T = 25*24*60*60  # 25 days.\n",
    "\n",
    "# Sanity check.\n",
    "DS_mt[\"time\"], DS_ndvi[\"time\"], DS_tp[\"time\"], DS_e[\"time\"] = \\\n",
    "    xr.align(DS_mt.time, DS_ndvi.time, DS_tp.time, DS_e.time, join=\"inner\")\n",
    "\n",
    "# Time index.\n",
    "DS_ti = DS_mt.time\n",
    "\n",
    "# Months.\n",
    "months = np.unique(DS_ti.dt.month).tolist()\n",
    "\n",
    "# Sazonal loop.\n",
    "for month in months:\n",
    "\n",
    "    month_str = calendar.month_name[month]    \n",
    "    print(\">>> Processing\", month_str, \"...\")\n",
    "    \n",
    "    # The same month across years.\n",
    "    time_mask = DS_ti.time.dt.month == month\n",
    "    time0s = pd.to_datetime(\n",
    "        DS_ti.time.sel(time=DS_ti.time[time_mask]).values\n",
    "    )\n",
    "    \n",
    "    # Loop over years at the same month.\n",
    "    for time0 in time0s:\n",
    "        \n",
    "        # Scalar and vectorial data.\n",
    "        U=DS_mt.u.sel(time=time0, method=\"nearest\")\n",
    "        V=DS_mt.v.sel(time=time0, method=\"nearest\")\n",
    "        \n",
    "        # Initialize trajectory.\n",
    "        st = cdlearn.trajectories.StaticTrajectory(\n",
    "            U=U, \n",
    "            V=V, \n",
    "            angular_position0=p0, \n",
    "            time0=time0\n",
    "        )\n",
    "\n",
    "        # Run trajectory.\n",
    "        df_trajectory = st.run(dt=dt, T=T)\n",
    "        \n",
    "        # Water vapour content along trajectory.\n",
    "        df_trajectory = st.add_data_along_trajectory(\n",
    "            df_trajectory=df_trajectory,\n",
    "            data_array=DS_mt.w.sel(time=time0).where(DS_mt.land_mask==True),\n",
    "            var_name=\"w\"\n",
    "        )\n",
    "                \n",
    "        # NDVI data along trajectory.\n",
    "        df_trajectory = st.add_data_along_trajectory(\n",
    "            df_trajectory=df_trajectory,\n",
    "            data_array=DS_ndvi.ndvi.sel(time=time0).where(DS_ndvi.land_mask==True),\n",
    "            var_name=\"ndvi\"\n",
    "        )\n",
    "        \n",
    "        # Total precipitation data along trajectory.\n",
    "        df_trajectory = st.add_data_along_trajectory(\n",
    "            df_trajectory=df_trajectory,\n",
    "            data_array=DS_tp.tp.sel(time=time0).where(DS_tp.land_mask==True),\n",
    "            var_name=\"tp\"\n",
    "        )        \n",
    "        \n",
    "        # Evaporation data along trajectory.\n",
    "        df_trajectory = st.add_data_along_trajectory(\n",
    "            df_trajectory=df_trajectory,\n",
    "            data_array=DS_e.e.sel(time=time0).where(DS_e.land_mask==True),\n",
    "            var_name=\"e\"\n",
    "        )        \n",
    "        \n",
    "        # Save trajectories.\n",
    "        pos0_str = \"pos0_\" + str(\"%05.2f_%05.2f\" %(p0[0], p0[1]))\n",
    "        date0_str = \"_date0_\" + str(time0.year) + str(\"_%02d\" %month) \n",
    "        file_name = pos0_str + date0_str + \".csv\"\n",
    "        df_trajectory.to_csv(path_or_buf=TRAJECTORIES_FOLDER + file_name)"
   ]
  }
 ],
 "metadata": {
  "kernelspec": {
   "display_name": "Python 3",
   "language": "python",
   "name": "python3"
  },
  "language_info": {
   "codemirror_mode": {
    "name": "ipython",
    "version": 3
   },
   "file_extension": ".py",
   "mimetype": "text/x-python",
   "name": "python",
   "nbconvert_exporter": "python",
   "pygments_lexer": "ipython3",
   "version": "3.7.6"
  }
 },
 "nbformat": 4,
 "nbformat_minor": 4
}
